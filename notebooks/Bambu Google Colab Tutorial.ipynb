{
 "cells": [
  {
   "cell_type": "markdown",
   "metadata": {
    "id": "gVKlZAqV1B2_"
   },
   "source": [
    "# Bambu: Google Colab Tutorial"
   ]
  },
  {
   "cell_type": "markdown",
   "metadata": {},
   "source": [
    "[![Open In Colab](https://colab.research.google.com/assets/colab-badge.svg)](https://colab.research.google.com/github/omixlab/bambu-v2/blob/main/notebooks/Bambu%20Google%20Colab%20Tutorial.ipynb)"
   ]
  },
  {
   "cell_type": "markdown",
   "metadata": {
    "id": "TLbHCqxc1GuK"
   },
   "source": [
    "## Installing RDKit"
   ]
  },
  {
   "cell_type": "code",
   "execution_count": 1,
   "metadata": {
    "id": "Tulnp4MO0-HZ"
   },
   "outputs": [],
   "source": [
    "# run this cell only if you are using this notebook in Google Colab\n",
    "!pip install kora -q\n",
    "import kora.install.rdkit"
   ]
  },
  {
   "cell_type": "markdown",
   "metadata": {
    "id": "kR6jMOpv1Is-"
   },
   "source": [
    "## Installing Bambu"
   ]
  },
  {
   "cell_type": "code",
   "execution_count": 3,
   "metadata": {
    "colab": {
     "base_uri": "https://localhost:8080/"
    },
    "id": "KvNyE5RJQS1X",
    "outputId": "620a4549-af33-4702-cc60-6c152f7143f7"
   },
   "outputs": [
    {
     "name": "stdout",
     "output_type": "stream",
     "text": [
      "\u001b[31mERROR: Could not find a version that satisfies the requirement bambu-qsar==0.0.8 (from versions: 0.0.5, 0.0.6)\u001b[0m\n",
      "\u001b[31mERROR: No matching distribution found for bambu-qsar==0.0.8\u001b[0m\n"
     ]
    }
   ],
   "source": [
    "!pip install bambu-qsar==0.0.8"
   ]
  },
  {
   "cell_type": "markdown",
   "metadata": {
    "id": "7lHIhIII1PA4"
   },
   "source": [
    "## Downloading data from a PubChem BioAssay"
   ]
  },
  {
   "cell_type": "code",
   "execution_count": null,
   "metadata": {
    "colab": {
     "base_uri": "https://localhost:8080/"
    },
    "id": "DhI_mjrhQVPq",
    "outputId": "a44b912e-846c-424b-f045-b313935bf975"
   },
   "outputs": [
    {
     "name": "stdout",
     "output_type": "stream",
     "text": [
      "| __ )  __ _ _ __ ___ | |__  _   _ \n",
      "|  _ \\ / _` | '_ ` _ \\| '_ \\| | | |\n",
      "| |_) | (_| | | | | | | |_) | |_| |\n",
      "|____/ \\__,_|_| |_| |_|_.__/ \\__,_|\n",
      "\n",
      "Downloading active molecules ...\n",
      " 50% 13/26 [00:01<00:01,  7.37it/s]\n",
      "100% 26/26 [00:03<00:00,  7.35it/s]\n",
      "Downloading inactive molecules ...\n",
      "  6% 27/455 [00:03<00:59,  7.17it/s]\n",
      "  1% 6/455 [00:00<01:09,  6.48it/s]\n",
      " 55% 250/455 [00:37<00:31,  6.59it/s]\n",
      "  2% 8/455 [00:01<01:15,  5.94it/s]\n",
      " 10% 45/455 [00:06<00:55,  7.35it/s]\n"
     ]
    }
   ],
   "source": [
    "!bambu-download \\\n",
    "  --pubchem-assay-id 29 \\\n",
    "  --output 29_raw.csv"
   ]
  },
  {
   "cell_type": "markdown",
   "metadata": {
    "id": "HOTgNER-1Xa4"
   },
   "source": [
    "## Computing descriptors for the downloaded molecules"
   ]
  },
  {
   "cell_type": "code",
   "execution_count": null,
   "metadata": {
    "id": "TcCraOls1cHq"
   },
   "outputs": [],
   "source": [
    "!bambu-preprocess --input 29_raw.csv \\\n",
    "    --train-test-split-percent 0.75 \\\n",
    "    --feature-type descriptors \\\n",
    "    --undersample \\\n",
    "    --output 29_preprocessed.csv \\\n",
    "    --output-preprocessor 29_descriptor_preprocessor.pickle"
   ]
  },
  {
   "cell_type": "markdown",
   "metadata": {
    "id": "yrqSLX_R1bZC"
   },
   "source": [
    "## Training a predictive model "
   ]
  },
  {
   "cell_type": "code",
   "execution_count": null,
   "metadata": {
    "id": "FvxnE1JB1eFc"
   },
   "outputs": [],
   "source": [
    "!bambu-train \\\n",
    "\t--input-train 29_preprocess_train.csv \\\n",
    "\t--input-test 29_preprocess_test.csv \\\n",
    "\t--output 29_model.pickle \\\n",
    "\t--model-history \\\n",
    "\t--max-iter 10 \\\n",
    "\t--time-budget 10 \\\n",
    "\t--estimators rf extra_tree"
   ]
  },
  {
   "cell_type": "markdown",
   "metadata": {
    "id": "fWrx4T4Y1hy6"
   },
   "source": [
    "## Using the model to analyze new molecules"
   ]
  },
  {
   "cell_type": "code",
   "execution_count": null,
   "metadata": {
    "id": "dabWXQ4t1ibS"
   },
   "outputs": [],
   "source": [
    "!wget -O pubchem_sample.sdf.gz \\\n",
    "  https://github.com/omixlab/bambu-v2/raw/main/tests/pubchem_sample.sdf.gz\n",
    "\n",
    "!gzip -d -f pubchem_sample.sdf.gz\n",
    "\n",
    "!bambu-predict \\\n",
    "        --input pubchem_sample.sdf \\\n",
    "        --preprocessor 29_preprocessor.pickle \\\n",
    "        --model 29_model.pickle \\\n",
    "        --output 29_predictions.csv"
   ]
  }
 ],
 "metadata": {
  "colab": {
   "name": "Untitled104.ipynb",
   "provenance": []
  },
  "kernelspec": {
   "display_name": "Python 3 (ipykernel)",
   "language": "python",
   "name": "python3"
  },
  "language_info": {
   "codemirror_mode": {
    "name": "ipython",
    "version": 3
   },
   "file_extension": ".py",
   "mimetype": "text/x-python",
   "name": "python",
   "nbconvert_exporter": "python",
   "pygments_lexer": "ipython3",
   "version": "3.8.12"
  }
 },
 "nbformat": 4,
 "nbformat_minor": 1
}
