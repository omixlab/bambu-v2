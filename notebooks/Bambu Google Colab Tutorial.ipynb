{
  "cells": [
    {
      "cell_type": "markdown",
      "metadata": {
        "id": "gVKlZAqV1B2_"
      },
      "source": [
        "# Bambu: Google Colab Tutorial\n",
        "\n",
        "In this tutorial we are going to explore the main features available in the Bambu QSAR command line tool, including dependence installation, data downloading, feature computation, model training and validation, and inference."
      ]
    },
    {
      "cell_type": "markdown",
      "metadata": {
        "id": "dnA65zEyivW-"
      },
      "source": [
        "[![Open In Colab](https://colab.research.google.com/assets/colab-badge.svg)](https://colab.research.google.com/github/omixlab/bambu-v2/blob/main/notebooks/Bambu%20Google%20Colab%20Tutorial.ipynb)"
      ]
    },
    {
      "cell_type": "markdown",
      "metadata": {
        "id": "TLbHCqxc1GuK"
      },
      "source": [
        "### Installing RDKit and Mordred\n",
        "\n",
        "Molecular descriptors might be computed using Mordred, which is based on RDKit library. Therefore, these two tools might be installed. When using in Google Colab it's possible to install using the following commands."
      ]
    },
    {
      "cell_type": "code",
      "execution_count": null,
      "metadata": {
        "id": "Tulnp4MO0-HZ"
      },
      "outputs": [],
      "source": [
        "# run this cell only if you are using this notebook in Google Colab\n",
        "!pip install kora -q\n",
        "import kora.install.rdkit"
      ]
    },
    {
      "cell_type": "code",
      "source": [
        "!pip install mordred"
      ],
      "metadata": {
        "id": "pBkB_dhijEkq"
      },
      "execution_count": null,
      "outputs": []
    },
    {
      "cell_type": "markdown",
      "source": [
        "### Installing mol2vec\n",
        "\n",
        "Bambu can also use mol2vec algorithm to compute molecular vector, which may be used as features for machine learning tasks."
      ],
      "metadata": {
        "id": "TymqelacqLG_"
      }
    },
    {
      "cell_type": "code",
      "source": [
        "!pip install pip install git+https://github.com/samoturk/mol2vec"
      ],
      "metadata": {
        "id": "tTwvDPUBjR-A"
      },
      "execution_count": null,
      "outputs": []
    },
    {
      "cell_type": "markdown",
      "metadata": {
        "id": "kR6jMOpv1Is-"
      },
      "source": [
        "## Installing Bambu\n",
        "\n",
        "After installing the dependencies, Bambu can be installed from PyPI using `pip`."
      ]
    },
    {
      "cell_type": "code",
      "execution_count": null,
      "metadata": {
        "id": "KvNyE5RJQS1X"
      },
      "outputs": [],
      "source": [
        "!pip install bambu-qsar==0.0.12"
      ]
    },
    {
      "cell_type": "markdown",
      "metadata": {
        "id": "7lHIhIII1PA4"
      },
      "source": [
        "## Downloading data from a PubChem BioAssay\n",
        "\n",
        "Datasets from the Pubchem Bioassays database can be download using the command `bambu-download`."
      ]
    },
    {
      "cell_type": "code",
      "execution_count": null,
      "metadata": {
        "id": "DhI_mjrhQVPq"
      },
      "outputs": [],
      "source": [
        "!bambu-download \\\n",
        "  --pubchem-assay-id 29 \\\n",
        "  --output 29_raw.csv"
      ]
    },
    {
      "cell_type": "markdown",
      "metadata": {
        "id": "HOTgNER-1Xa4"
      },
      "source": [
        "## Computing vectors for the downloaded molecules\n",
        "\n",
        "To compute vectors using the `mol2vec` method we need a pre-trained model, which might be generated using [the library developed by samoturk](https://github.com/samoturk/mol2vec/)."
      ]
    },
    {
      "cell_type": "code",
      "source": [
        "!curl -L -o mol2vec.pickle \"https://github.com/samoturk/mol2vec/blob/master/examples/models/model_300dim.pkl?raw=true\""
      ],
      "metadata": {
        "id": "CzP0p51tk9Bd"
      },
      "execution_count": null,
      "outputs": []
    },
    {
      "cell_type": "code",
      "execution_count": null,
      "metadata": {
        "id": "TcCraOls1cHq"
      },
      "outputs": [],
      "source": [
        "!bambu-preprocess --input 29_raw.csv \\\n",
        "    --train-test-split-percent 0.75 \\\n",
        "    --feature-type mol2vec \\\n",
        "    --undersample \\\n",
        "    --mol2vec-model-path mol2vec.pickle \\\n",
        "    --output 29_preprocessed.csv \\\n",
        "    --output-preprocessor 29_descriptor_preprocessor.pickle"
      ]
    },
    {
      "cell_type": "markdown",
      "metadata": {
        "id": "yrqSLX_R1bZC"
      },
      "source": [
        "## Training a predictive model \n",
        "\n",
        "Now, let's train a model based on the Extra Trees Classifier based on the computed features."
      ]
    },
    {
      "cell_type": "code",
      "execution_count": null,
      "metadata": {
        "id": "FvxnE1JB1eFc"
      },
      "outputs": [],
      "source": [
        "!bambu-train \\\n",
        "\t--input-train 29_preprocessed_train.csv \\\n",
        "\t--output 29_model.pickle \\\n",
        "\t--model-history \\\n",
        "\t--time-budget 3600 \\\n",
        "\t--estimators extra_tree"
      ]
    },
    {
      "cell_type": "markdown",
      "source": [
        "## Model Validation\n",
        "\n",
        "The model we have trained may be validated using the `bambu-validate` command, which will use an y-randomization method to compute classification performance scores and their respective significances."
      ],
      "metadata": {
        "id": "rc3CQp1RmDV-"
      }
    },
    {
      "cell_type": "code",
      "source": [
        "!!bambu-validate \\\n",
        "\t--input-train 29_preprocessed_train.csv \\\n",
        "\t--input-test 29_preprocessed_test.csv \\\n",
        "  --model 29_model.pickle \\\n",
        "\t--output validation.json \\\n",
        "\t--randomizations 100"
      ],
      "metadata": {
        "id": "eG2p-BximIlw"
      },
      "execution_count": null,
      "outputs": []
    },
    {
      "cell_type": "code",
      "source": [
        "import pandas as pd\n",
        "import json\n",
        "\n",
        "with open('validation.json') as reader:\n",
        "  validation_results = json.load(reader)\n",
        "validation_results\n",
        "\n",
        "df = pd.DataFrame(columns=[\"metric\", \"value\", \"p-value\"])\n",
        "\n",
        "for metric in [\"accuracy\", \"recall\", \"precision\", \"f1\", \"roc_auc\"]:\n",
        "  df = df.append(\n",
        "      {\n",
        "        \"metric\": metric, \n",
        "        \"value\": validation_results[\"raw_scores\"][metric][0], \n",
        "        \"p-value\": validation_results[\"pvalues\"][metric][0]\n",
        "      }, ignore_index=True\n",
        "  )\n",
        "\n",
        "df"
      ],
      "metadata": {
        "id": "ztw9c340mfGb"
      },
      "execution_count": null,
      "outputs": []
    },
    {
      "cell_type": "markdown",
      "metadata": {
        "id": "fWrx4T4Y1hy6"
      },
      "source": [
        "## Using the model to analyze new molecules\n",
        "\n",
        "To use our trained model, we might pass a file (`.sdf`, `.mol2` or `.smiles`) containing multiple molecules to be analyzed. "
      ]
    },
    {
      "cell_type": "code",
      "execution_count": null,
      "metadata": {
        "id": "dabWXQ4t1ibS"
      },
      "outputs": [],
      "source": [
        "!wget -O pubchem_sample.sdf.gz \\\n",
        "  https://github.com/omixlab/bambu-v2/raw/main/tests/pubchem_sample.sdf.gz\n",
        "\n",
        "!gzip -d -f pubchem_sample.sdf.gz\n",
        "\n",
        "!bambu-predict \\\n",
        "        --input pubchem_sample.sdf \\\n",
        "        --preprocessor 29_preprocessor.pickle \\\n",
        "        --model 29_model.pickle \\\n",
        "        --output 29_predictions.csv"
      ]
    }
  ],
  "metadata": {
    "colab": {
      "name": "bambu-google-colab-tutorial.ipynb",
      "provenance": []
    },
    "kernelspec": {
      "display_name": "Python 3 (ipykernel)",
      "language": "python",
      "name": "python3"
    },
    "language_info": {
      "codemirror_mode": {
        "name": "ipython",
        "version": 3
      },
      "file_extension": ".py",
      "mimetype": "text/x-python",
      "name": "python",
      "nbconvert_exporter": "python",
      "pygments_lexer": "ipython3",
      "version": "3.8.12"
    }
  },
  "nbformat": 4,
  "nbformat_minor": 0
}